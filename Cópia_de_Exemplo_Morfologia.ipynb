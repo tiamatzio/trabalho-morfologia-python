{
  "nbformat": 4,
  "nbformat_minor": 0,
  "metadata": {
    "colab": {
      "provenance": [],
      "include_colab_link": true
    },
    "kernelspec": {
      "name": "python3",
      "display_name": "Python 3"
    },
    "language_info": {
      "name": "python"
    }
  },
  "cells": [
    {
      "cell_type": "markdown",
      "metadata": {
        "id": "view-in-github",
        "colab_type": "text"
      },
      "source": [
        "<a href=\"https://colab.research.google.com/github/tiamatzio/trabalho-morfologia-python/blob/main/C%C3%B3pia_de_Exemplo_Morfologia.ipynb\" target=\"_parent\"><img src=\"https://colab.research.google.com/assets/colab-badge.svg\" alt=\"Open In Colab\"/></a>"
      ]
    },
    {
      "cell_type": "markdown",
      "source": [
        "Universidade do Vale do Itajaí<br>\n",
        "Escola do Mar, Ciência e Tecnologia<br>\n",
        "Professor Felipe Viel\n",
        "\n",
        "# Exemplo Morfologia\n",
        "\n",
        "### Tutoriais da OpenCV\n",
        "\n",
        "- https://docs.opencv.org/master/d9/df8/tutorial_root.html\n",
        "- https://www.geeksforgeeks.org/opencv-python-tutorial/"
      ],
      "metadata": {
        "id": "hs7F3RjrUjCH"
      }
    },
    {
      "cell_type": "code",
      "execution_count": null,
      "metadata": {
        "id": "9ieiSWN_Uh5b"
      },
      "outputs": [],
      "source": [
        "#from https://opencv-python-tutroals.readthedocs.io/en/latest/py_tutorials/py_imgproc/py_morphological_ops/py_morphological_ops.html\n",
        "import cv2 #importa a biblioteca Open Source Computer Vision Library, que traz uma variedade de funções e ferramentas envolvendo processamento de imagens e visão computacional\n",
        "import numpy as np #importa a biblioteca numpy que melhora a manipulação de arrays e operações matemáticas\n",
        "#caso for usar o Google Colab com a OpenCV, usar a lib abaixo\n",
        "from google.colab.patches import cv2_imshow #cv2_imshow é uma função do Google Colab que permite exibir imagens em notebooks do colab usando o OpenCv\n"
      ]
    },
    {
      "cell_type": "code",
      "source": [
        "img = cv2.imread('j.png',0) #vc2.imread é usado para ler uma imagem que esta sendo lida em escala de cinza, de acordo com o 0. O resultado da leitura é armazenado na variável img\n",
        "img_opening = cv2.imread('j_ruido.png',0) #outra imagem é lida em escala de cinza , com o resultado armazenado na variável img_opening\n",
        "img_closing = cv2.imread('j_furos.png',0) #novamente, uma imagem é lida em escala de cinza com o resultado armazenado na variável img_closing\n",
        "altura, largura = img.shape #a função shape retorna os valores de altura e largura respectivamente para as variáveis de mesmo nome\n",
        "kernel = np.ones((5,5),np.uint8) #o NumPy (np) é usado para criar um kernel que será usado em operações de processamento morfológico, nesse caso o kernel tem tamanho 5x5 e é preenchido com valores de 1. o tipo de dado é np.uint8 e o kernel é armazenado na variável de mesmo nome\n",
        "print(kernel) #aqui é imprimida a matriz do kernel"
      ],
      "metadata": {
        "id": "8whvZbKhU03S"
      },
      "execution_count": null,
      "outputs": []
    },
    {
      "cell_type": "code",
      "source": [
        "erosion = cv2.erode(img,kernel,iterations = 2) # a função cv2.erode realiza a função de erosão na imagem, que desgasta áreas brancas e reduz o tamanho dos objetos. Essa função recebe as variáveis img, kernel e o parâmetro iterations que especifica o numero de vezes que a erosão ocorrerá, tudo isso é armazenado na variável erosion.\n",
        "dilation = cv2.dilate(img,kernel,iterations = 2) #a função cv2.dilate realiza a função de dilatação na imagem, que aumenta as partes brancas da imagem, preenchendo espaços vazios e unindo regiões próximas. Essa função recebe as variáveis img, kernel e o parâmetro iterations que especifica o número de vezes que a dilatação ocorrerá, tudo isso é armazenado na variável dilation."
      ],
      "metadata": {
        "id": "RnKcRcjsU8VP"
      },
      "execution_count": null,
      "outputs": []
    },
    {
      "cell_type": "code",
      "source": [
        "gradient = cv2.morphologyEx(img, cv2.MORPH_GRADIENT, kernel) #a função cv2.morphologyEx é usada para diversas operações em uma imagem, que nesse caso, de acordo com o \"MORPH_GRADIENT\" está sendo realizado o gradiente morfológico, que realça as bordas e contornos dos objetos na imagem. A função recebe a imagem de entrada, tipo de operação, e o kernel a ser aplicado respectivamente. A variável gradient armazena o resultado.\n",
        "opening = cv2.morphologyEx(img_opening, cv2.MORPH_OPEN, kernel) #aqui ocorre a abertura morfológica, de acordo com a função \"cv2.MORPH_OPEN\" que é uma erosão seguida de dilatação, remove ruídos e pequenos objetos do primeiro plano. A função recebe imagem de entrada, tipo de operação, e o kernel a ser aplicado respectivamente, a variável opening armazena os resultados\n",
        "closing = cv2.morphologyEx(img_closing, cv2.MORPH_CLOSE, kernel) #nessa linha ocorre o fechamento morfológico (cv2.MORPH_CLOSE), que é uma combinação de uma dilatação seguida de uma erosão, usado para preencher lacunas em objetos e fechar pequenos buracos no primeiro plano da imagem. A função recebe imagem de entrada, tipo de operação, e o kernel a ser aplicado respectivamente, a variável closing armazena os resultados"
      ],
      "metadata": {
        "id": "WvTtlQWJU-tz"
      },
      "execution_count": null,
      "outputs": []
    },
    {
      "cell_type": "code",
      "source": [
        "'''\n",
        "#Caso usa com Python no próprio computador\n",
        "cv2.imshow('in', img) #essa linha exibe a imagem original em uma janela \"in\"\n",
        "cv2.imshow('erosion_out', erosion) #essa linha exibe a imagem resultante da erosão em uma janela chamada \"erosion_out\"\n",
        "cv2.imshow('dilation_out', dilation) #essa linha exibe a imagem resultante da dilatação em uma janela chamada \"dilation_out\"\n",
        "cv2.imshow('opening_out', opening) #essa linha exibe a imagem resultante da abertura em uma janela chamada \"opening_out\"\n",
        "cv2.imshow('closing_out', closing) #essa linha exibe a imagem resultante do fechamento em uma janela chamada \"closing_out\"\n",
        "cv2.imshow('gradient_out', gradient) #essa linha exibe a imagem resultante do gradiente em uma janela chamada \"gradient_out\"\n",
        "'''\n",
        "#Caso use o Google Colab\n",
        "cv2_imshow(img) #Essa linha exibe a imagem original usando a função cv2_imshow() do Google Colab.\n",
        "cv2_imshow(erosion) #Essa linha exibe a imagem resultante da erosão usando a função cv2_imshow()\n",
        "cv2_imshow(dilation)  #Essa linha exibe a imagem resultante da dilatação usando a função cv2_imshow()\n",
        "cv2_imshow(opening) #Essa linha exibe a imagem resultante da abertura usando a função cv2_imshow()\n",
        "cv2_imshow(closing) #Essa linha exibe a imagem resultante do fechamento usando a função cv2_imshow()\n",
        "cv2_imshow(gradient) #Essa linha exibe a imagem resultante do gradiente morfológico usando a função cv2_imshow()"
      ],
      "metadata": {
        "id": "iMJ7o6EgVA_r"
      },
      "execution_count": null,
      "outputs": []
    }
  ]
}